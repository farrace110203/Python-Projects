{
 "cells": [
  {
   "cell_type": "code",
   "execution_count": 2,
   "id": "0d78504e",
   "metadata": {},
   "outputs": [
    {
     "name": "stdout",
     "output_type": "stream",
     "text": [
      "150\n"
     ]
    }
   ],
   "source": [
    "x = 50\n",
    "y = 100\n",
    "\n",
    "z = x + y\n",
    "\n",
    "print (z)"
   ]
  },
  {
   "cell_type": "code",
   "execution_count": 3,
   "id": "6793b70f",
   "metadata": {},
   "outputs": [
    {
     "name": "stdout",
     "output_type": "stream",
     "text": [
      "50\n"
     ]
    }
   ],
   "source": [
    "z = y - x\n",
    "print(z)"
   ]
  },
  {
   "cell_type": "code",
   "execution_count": 4,
   "id": "6e6ba587",
   "metadata": {},
   "outputs": [
    {
     "name": "stdout",
     "output_type": "stream",
     "text": [
      "5000\n"
     ]
    }
   ],
   "source": [
    "z = x * y\n",
    "print (z)"
   ]
  },
  {
   "cell_type": "code",
   "execution_count": 8,
   "id": "98c75185",
   "metadata": {},
   "outputs": [
    {
     "name": "stdout",
     "output_type": "stream",
     "text": [
      "0.5\n"
     ]
    }
   ],
   "source": [
    "z = x / y\n",
    "print (z)"
   ]
  },
  {
   "cell_type": "code",
   "execution_count": 6,
   "id": "6a9094a4",
   "metadata": {},
   "outputs": [
    {
     "name": "stdout",
     "output_type": "stream",
     "text": [
      "hello\n"
     ]
    }
   ],
   "source": [
    "x = 10\n",
    "y = 20\n",
    "if x == 10:\n",
    " print(\"hello\")\n",
    "else:\n",
    " print(\"bye\")"
   ]
  },
  {
   "cell_type": "code",
   "execution_count": 5,
   "id": "83c9dd50",
   "metadata": {},
   "outputs": [
    {
     "ename": "IndentationError",
     "evalue": "unindent does not match any outer indentation level (<tokenize>, line 5)",
     "output_type": "error",
     "traceback": [
      "\u001b[1;36m  File \u001b[1;32m<tokenize>:5\u001b[1;36m\u001b[0m\n\u001b[1;33m    else:\u001b[0m\n\u001b[1;37m    ^\u001b[0m\n\u001b[1;31mIndentationError\u001b[0m\u001b[1;31m:\u001b[0m unindent does not match any outer indentation level\n"
     ]
    }
   ],
   "source": [
    "subjects = [\"Software\", \"Chemistry\", \"English\", \"Arabic\"]\n",
    "def subject_availability(subject_name):\n",
    "    if(is_available(subject_name)):\n",
    "    return \"the subject is available\"\n",
    " else:\n",
    "    return \"the subject is not available\"\n",
    "\n",
    "\n",
    "def is_available(subject_name):\n",
    "    return subject_name in subjects\n"
   ]
  },
  {
   "cell_type": "code",
   "execution_count": 7,
   "id": "3f4fe8af",
   "metadata": {},
   "outputs": [
    {
     "name": "stdout",
     "output_type": "stream",
     "text": [
      "Please enter the name of the subject : Software\n"
     ]
    },
    {
     "ename": "NameError",
     "evalue": "name 'subject_availability' is not defined",
     "output_type": "error",
     "traceback": [
      "\u001b[1;31m---------------------------------------------------------------------------\u001b[0m",
      "\u001b[1;31mNameError\u001b[0m                                 Traceback (most recent call last)",
      "Cell \u001b[1;32mIn[7], line 2\u001b[0m\n\u001b[0;32m      1\u001b[0m input_subject \u001b[38;5;241m=\u001b[39m \u001b[38;5;28minput\u001b[39m(\u001b[38;5;124m\"\u001b[39m\u001b[38;5;124mPlease enter the name of the subject : \u001b[39m\u001b[38;5;124m\"\u001b[39m)\n\u001b[1;32m----> 2\u001b[0m \u001b[38;5;28mprint\u001b[39m(subject_availability(input_subject))\n",
      "\u001b[1;31mNameError\u001b[0m: name 'subject_availability' is not defined"
     ]
    }
   ],
   "source": [
    "input_subject = input(\"Please enter the name of the subject : \")\n",
    "print(subject_availability(input_subject))"
   ]
  },
  {
   "cell_type": "code",
   "execution_count": 8,
   "id": "209917f2",
   "metadata": {},
   "outputs": [
    {
     "data": {
      "text/plain": [
       "3"
      ]
     },
     "execution_count": 8,
     "metadata": {},
     "output_type": "execute_result"
    }
   ],
   "source": [
    "x = ['Danish', 'Faris', 'Amirul']\n",
    "len(x)"
   ]
  },
  {
   "cell_type": "code",
   "execution_count": 9,
   "id": "7aa25f8f",
   "metadata": {},
   "outputs": [
    {
     "name": "stdout",
     "output_type": "stream",
     "text": [
      "Saranghaeyo\n"
     ]
    }
   ],
   "source": [
    "student = {\n",
    " \"name\": \"Saranghaeyo\",\n",
    " \"age\": 27\n",
    "}\n",
    "print(student[\"name\"])"
   ]
  },
  {
   "cell_type": "code",
   "execution_count": null,
   "id": "080929e3",
   "metadata": {},
   "outputs": [],
   "source": [
    "def sum(a,b):\n",
    "    return a+b\n",
    "def sub(a,b):\n",
    "    return a-b\n",
    "def mult(a,b):\n",
    "    return a*b\n",
    "def divi(a,b):\n",
    "    return a/b"
   ]
  },
  {
   "cell_type": "code",
   "execution_count": null,
   "id": "3a3f327a",
   "metadata": {},
   "outputs": [],
   "source": [
    "print(sum(20, 10))\n",
    "print(sub(20, 10))\n",
    "print(mult(20, 10))\n",
    "print(divi(20, 10))\n"
   ]
  }
 ],
 "metadata": {
  "kernelspec": {
   "display_name": "Python 3 (ipykernel)",
   "language": "python",
   "name": "python3"
  },
  "language_info": {
   "codemirror_mode": {
    "name": "ipython",
    "version": 3
   },
   "file_extension": ".py",
   "mimetype": "text/x-python",
   "name": "python",
   "nbconvert_exporter": "python",
   "pygments_lexer": "ipython3",
   "version": "3.11.5"
  }
 },
 "nbformat": 4,
 "nbformat_minor": 5
}
