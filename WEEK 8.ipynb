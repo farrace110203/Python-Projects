{
 "cells": [
  {
   "cell_type": "code",
   "execution_count": null,
   "id": "654e407c",
   "metadata": {},
   "outputs": [
    {
     "name": "stdout",
     "output_type": "stream",
     "text": [
      "Enter the name of a state: Pahang\n",
      "Population of Pahang: 1692000\n",
      "Enter the name of a state: Melaka\n",
      "Population of Melaka: 932000\n",
      "Enter the name of a state: Kuala Lumpur\n",
      "Kuala Lumpur is not found in the data.\n"
     ]
    }
   ],
   "source": [
    "# Define the dataset with state names as keys and populations as values\n",
    "malaysia_population_data = {\n",
    "    'Johor': 3794000,\n",
    "    'Kedah': 2220000,\n",
    "    'Kelantan': 1938000,\n",
    "    'Melaka': 932000,\n",
    "    'Negeri Sembilan': 1125000,\n",
    "    'Pahang': 1692000,\n",
    "    'Perak': 2545000,\n",
    "    'Perlis': 255000,\n",
    "    'Pulau Pinang': 1783000,\n",
    "    'Sabah': 3935000,\n",
    "    'Sarawak': 2875000,\n",
    "    'Selangor': 6539000,\n",
    "    'Terengganu': 1335000,\n",
    "}\n",
    "\n",
    "def get_population(state_name):\n",
    "    # Check if the state name is in the dataset\n",
    "    if state_name in malaysia_population_data:\n",
    "        return malaysia_population_data[state_name]\n",
    "    else:\n",
    "        return None\n",
    "\n",
    "def main():\n",
    "    while True:\n",
    "        # Get user input for the state name\n",
    "        state_name = input(\"Enter the name of a state: \")\n",
    "\n",
    "        # Check if the user wants to exit\n",
    "        if state_name.lower() == 'exit':\n",
    "            break\n",
    "\n",
    "        # Get the population for the entered state\n",
    "        population = get_population(state_name)\n",
    "\n",
    "        # Display the result\n",
    "        if population is not None:\n",
    "            print(f\"Population of {state_name}: {population}\")\n",
    "        else:\n",
    "            print(f\"{state_name} is not found in the data.\")\n",
    "\n",
    "if __name__ == \"__main__\":\n",
    "    main()"
   ]
  }
 ],
 "metadata": {
  "kernelspec": {
   "display_name": "Python 3 (ipykernel)",
   "language": "python",
   "name": "python3"
  },
  "language_info": {
   "codemirror_mode": {
    "name": "ipython",
    "version": 3
   },
   "file_extension": ".py",
   "mimetype": "text/x-python",
   "name": "python",
   "nbconvert_exporter": "python",
   "pygments_lexer": "ipython3",
   "version": "3.11.5"
  }
 },
 "nbformat": 4,
 "nbformat_minor": 5
}
