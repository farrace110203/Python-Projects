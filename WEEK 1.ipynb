{
 "cells": [
  {
   "cell_type": "code",
   "execution_count": 1,
   "id": "776939f5",
   "metadata": {},
   "outputs": [
    {
     "name": "stdout",
     "output_type": "stream",
     "text": [
      "100\n",
      "No such grade in the system\n"
     ]
    }
   ],
   "source": [
    "grade = int(input())\n",
    "\n",
    "if grade == \"A\":\n",
    "    print(\"Congratulations!\")\n",
    "elif grade == \"B\" :\n",
    "    print(\"Good\")\n",
    "elif grade == \"C\" :\n",
    "    print(\"Pass\")\n",
    "elif grade == \"X\" :\n",
    "    print(\"X is there\")\n",
    "else :\n",
    "    print(\"No such grade in the system\")\n"
   ]
  },
  {
   "cell_type": "code",
   "execution_count": 2,
   "id": "1a743b0e",
   "metadata": {},
   "outputs": [
    {
     "name": "stdout",
     "output_type": "stream",
     "text": [
      "<class 'int'>\n"
     ]
    }
   ],
   "source": [
    "print (type(grade))"
   ]
  },
  {
   "cell_type": "code",
   "execution_count": 3,
   "id": "dc2b4430",
   "metadata": {},
   "outputs": [
    {
     "name": "stdout",
     "output_type": "stream",
     "text": [
      "200\n"
     ]
    }
   ],
   "source": [
    "if grade == 100 :\n",
    "    print (grade + 100)"
   ]
  },
  {
   "cell_type": "code",
   "execution_count": null,
   "id": "d16ac831",
   "metadata": {},
   "outputs": [],
   "source": []
  }
 ],
 "metadata": {
  "kernelspec": {
   "display_name": "Python 3 (ipykernel)",
   "language": "python",
   "name": "python3"
  },
  "language_info": {
   "codemirror_mode": {
    "name": "ipython",
    "version": 3
   },
   "file_extension": ".py",
   "mimetype": "text/x-python",
   "name": "python",
   "nbconvert_exporter": "python",
   "pygments_lexer": "ipython3",
   "version": "3.11.5"
  }
 },
 "nbformat": 4,
 "nbformat_minor": 5
}
